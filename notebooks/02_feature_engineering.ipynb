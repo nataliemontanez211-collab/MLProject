{
 "cells": [
  {
   "cell_type": "markdown",
   "id": "9ab01fb7",
   "metadata": {},
   "source": [
    "# notebooks/02_feature_engineering.ipynb"
   ]
  },
  {
   "cell_type": "code",
   "execution_count": 4,
   "id": "2bd7f354",
   "metadata": {},
   "outputs": [],
   "source": [
    "import sys, os\n",
    "\n",
    "import pandas as pd\n",
    "import numpy as np\n",
    "\n",
    "import matplotlib.pyplot as plt\n",
    "import seaborn as sns\n",
    "\n",
    "sys.path.append(os.path.abspath(os.path.join('..', 'scripts')))\n",
    "from data_loader import create_panel_data"
   ]
  },
  {
   "cell_type": "markdown",
   "id": "d0082425",
   "metadata": {},
   "source": [
    "## Load Panel Data"
   ]
  },
  {
   "cell_type": "code",
   "execution_count": 5,
   "id": "3caf121f",
   "metadata": {},
   "outputs": [
    {
     "name": "stderr",
     "output_type": "stream",
     "text": [
      "/Users/fanzirui/Desktop/Sam_MacBook Pro/Duke/FA25/FINTECH 540/Project/scripts/data_loader.py:61: FutureWarning: The previous implementation of stack is deprecated and will be removed in a future version of pandas. See the What's New notes for pandas 2.1.0 for details. Specify future_stack=True to adopt the new implementation and silence this warning.\n",
      "  stacked = df.stack(dropna=False)\n",
      "/Users/fanzirui/Desktop/Sam_MacBook Pro/Duke/FA25/FINTECH 540/Project/scripts/data_loader.py:61: FutureWarning: The previous implementation of stack is deprecated and will be removed in a future version of pandas. See the What's New notes for pandas 2.1.0 for details. Specify future_stack=True to adopt the new implementation and silence this warning.\n",
      "  stacked = df.stack(dropna=False)\n",
      "/Users/fanzirui/Desktop/Sam_MacBook Pro/Duke/FA25/FINTECH 540/Project/scripts/data_loader.py:61: FutureWarning: The previous implementation of stack is deprecated and will be removed in a future version of pandas. See the What's New notes for pandas 2.1.0 for details. Specify future_stack=True to adopt the new implementation and silence this warning.\n",
      "  stacked = df.stack(dropna=False)\n",
      "/Users/fanzirui/Desktop/Sam_MacBook Pro/Duke/FA25/FINTECH 540/Project/scripts/data_loader.py:61: FutureWarning: The previous implementation of stack is deprecated and will be removed in a future version of pandas. See the What's New notes for pandas 2.1.0 for details. Specify future_stack=True to adopt the new implementation and silence this warning.\n",
      "  stacked = df.stack(dropna=False)\n"
     ]
    },
    {
     "name": "stdout",
     "output_type": "stream",
     "text": [
      "Data Head: \n",
      "                        rv       bpv      good       bad          rq\n",
      "Date       Stock                                                    \n",
      "2003-01-02 AAPL   6.493909  3.771960  5.102315  1.391595  152.729402\n",
      "           AMGN   5.177506  3.635898  3.362921  1.814585   46.168213\n",
      "           AMZN   9.886836  8.018926  6.074276  3.812559  200.751309\n",
      "           AXP    4.448244  4.122573  3.337253  1.110991  114.695371\n",
      "           BA     7.469396  7.016747  5.107386  2.362010  150.112379\n",
      "\n",
      "Data Tail: \n",
      "                        rv       bpv      good       bad        rq\n",
      "Date       Stock                                                  \n",
      "2024-03-28 TRV    0.501900  0.450509  0.225921  0.275979  0.517683\n",
      "           UNH    0.774552  0.762729  0.406755  0.367797  0.696658\n",
      "           V      0.627872  0.445852  0.329977  0.297895  1.160977\n",
      "           VZ     0.783853  0.706211  0.493097  0.290755  1.847938\n",
      "           WMT    0.359440  0.336123  0.106481  0.252960  0.150975\n"
     ]
    },
    {
     "name": "stderr",
     "output_type": "stream",
     "text": [
      "/Users/fanzirui/Desktop/Sam_MacBook Pro/Duke/FA25/FINTECH 540/Project/scripts/data_loader.py:61: FutureWarning: The previous implementation of stack is deprecated and will be removed in a future version of pandas. See the What's New notes for pandas 2.1.0 for details. Specify future_stack=True to adopt the new implementation and silence this warning.\n",
      "  stacked = df.stack(dropna=False)\n"
     ]
    }
   ],
   "source": [
    "panel_df = create_panel_data(frequency='5_min')\n",
    "\n",
    "print('Data Head: ')\n",
    "print(panel_df.head())\n",
    "print('\\nData Tail: ')\n",
    "print(panel_df.tail())"
   ]
  },
  {
   "cell_type": "markdown",
   "id": "5f977526",
   "metadata": {},
   "source": [
    "## Integrate VIX Data"
   ]
  },
  {
   "cell_type": "code",
   "execution_count": 9,
   "id": "79c62604",
   "metadata": {},
   "outputs": [
    {
     "name": "stdout",
     "output_type": "stream",
     "text": [
      "Panel with VIX: \n",
      "                        rv       bpv      good       bad          rq    vix\n",
      "Date       Stock                                                           \n",
      "2003-01-02 AAPL   6.493909  3.771960  5.102315  1.391595  152.729402  25.39\n",
      "           AMGN   5.177506  3.635898  3.362921  1.814585   46.168213  25.39\n",
      "           AMZN   9.886836  8.018926  6.074276  3.812559  200.751309  25.39\n",
      "           AXP    4.448244  4.122573  3.337253  1.110991  114.695371  25.39\n",
      "           BA     7.469396  7.016747  5.107386  2.362010  150.112379  25.39\n"
     ]
    }
   ],
   "source": [
    "START_DATE = '2003-01-02'\n",
    "END_DATE = '2024-03-28'\n",
    "\n",
    "vix_path = os.path.join('..', 'data', 'VIX_History.csv')\n",
    "vix_data = pd.read_csv(vix_path)\n",
    "\n",
    "vix_data['Date'] = pd.to_datetime(vix_data['DATE'], format='%m/%d/%Y')\n",
    "vix_data = vix_data.set_index('Date')\n",
    "vix = vix_data[['CLOSE']].rename(columns={'CLOSE': 'vix'})\n",
    "vix = vix.loc[START_DATE:END_DATE]\n",
    "\n",
    "panel_vix = panel_df.join(vix, on='Date')\n",
    "print('Panel with VIX: ')\n",
    "print(panel_vix.head())"
   ]
  },
  {
   "cell_type": "markdown",
   "id": "1905540e",
   "metadata": {},
   "source": [
    "## Define Target Variable (Y_reg)"
   ]
  },
  {
   "cell_type": "code",
   "execution_count": 11,
   "id": "fc360618",
   "metadata": {},
   "outputs": [
    {
     "name": "stdout",
     "output_type": "stream",
     "text": [
      "Example for AAPL: \n"
     ]
    },
    {
     "data": {
      "application/vnd.microsoft.datawrangler.viewer.v0+json": {
       "columns": [
        {
         "name": "('Date', 'Stock')",
         "rawType": "object",
         "type": "unknown"
        },
        {
         "name": "rv",
         "rawType": "float64",
         "type": "float"
        },
        {
         "name": "Y_reg",
         "rawType": "float64",
         "type": "float"
        }
       ],
       "ref": "8cb73ae7-7785-4990-b6e6-6d5137491f55",
       "rows": [
        [
         "(Timestamp('2024-03-22 00:00:00'), 'AAPL')",
         "1.2165476643560609",
         "0.6823418257940115"
        ],
        [
         "(Timestamp('2024-03-25 00:00:00'), 'AAPL')",
         "0.6823418257940115",
         "0.42599015540420593"
        ],
        [
         "(Timestamp('2024-03-26 00:00:00'), 'AAPL')",
         "0.42599015540420593",
         "0.9593778019599926"
        ],
        [
         "(Timestamp('2024-03-27 00:00:00'), 'AAPL')",
         "0.9593778019599926",
         "0.5633071323199822"
        ],
        [
         "(Timestamp('2024-03-28 00:00:00'), 'AAPL')",
         "0.5633071323199822",
         null
        ]
       ],
       "shape": {
        "columns": 2,
        "rows": 5
       }
      },
      "text/html": [
       "<div>\n",
       "<style scoped>\n",
       "    .dataframe tbody tr th:only-of-type {\n",
       "        vertical-align: middle;\n",
       "    }\n",
       "\n",
       "    .dataframe tbody tr th {\n",
       "        vertical-align: top;\n",
       "    }\n",
       "\n",
       "    .dataframe thead th {\n",
       "        text-align: right;\n",
       "    }\n",
       "</style>\n",
       "<table border=\"1\" class=\"dataframe\">\n",
       "  <thead>\n",
       "    <tr style=\"text-align: right;\">\n",
       "      <th></th>\n",
       "      <th></th>\n",
       "      <th>rv</th>\n",
       "      <th>Y_reg</th>\n",
       "    </tr>\n",
       "    <tr>\n",
       "      <th>Date</th>\n",
       "      <th>Stock</th>\n",
       "      <th></th>\n",
       "      <th></th>\n",
       "    </tr>\n",
       "  </thead>\n",
       "  <tbody>\n",
       "    <tr>\n",
       "      <th>2024-03-22</th>\n",
       "      <th>AAPL</th>\n",
       "      <td>1.216548</td>\n",
       "      <td>0.682342</td>\n",
       "    </tr>\n",
       "    <tr>\n",
       "      <th>2024-03-25</th>\n",
       "      <th>AAPL</th>\n",
       "      <td>0.682342</td>\n",
       "      <td>0.425990</td>\n",
       "    </tr>\n",
       "    <tr>\n",
       "      <th>2024-03-26</th>\n",
       "      <th>AAPL</th>\n",
       "      <td>0.425990</td>\n",
       "      <td>0.959378</td>\n",
       "    </tr>\n",
       "    <tr>\n",
       "      <th>2024-03-27</th>\n",
       "      <th>AAPL</th>\n",
       "      <td>0.959378</td>\n",
       "      <td>0.563307</td>\n",
       "    </tr>\n",
       "    <tr>\n",
       "      <th>2024-03-28</th>\n",
       "      <th>AAPL</th>\n",
       "      <td>0.563307</td>\n",
       "      <td>NaN</td>\n",
       "    </tr>\n",
       "  </tbody>\n",
       "</table>\n",
       "</div>"
      ],
      "text/plain": [
       "                        rv     Y_reg\n",
       "Date       Stock                    \n",
       "2024-03-22 AAPL   1.216548  0.682342\n",
       "2024-03-25 AAPL   0.682342  0.425990\n",
       "2024-03-26 AAPL   0.425990  0.959378\n",
       "2024-03-27 AAPL   0.959378  0.563307\n",
       "2024-03-28 AAPL   0.563307       NaN"
      ]
     },
     "metadata": {},
     "output_type": "display_data"
    }
   ],
   "source": [
    "df = panel_vix.sort_index()\n",
    "\n",
    "df['Y_reg'] = df.groupby('Stock')['rv'].shift(-1)\n",
    "\n",
    "print('Example for AAPL: ')\n",
    "display(df.loc[pd.IndexSlice[:, 'AAPL'], :].tail()[['rv', 'Y_reg']])"
   ]
  },
  {
   "cell_type": "markdown",
   "id": "0a5da692",
   "metadata": {},
   "source": [
    "## Engineer Features (X)"
   ]
  },
  {
   "cell_type": "code",
   "execution_count": null,
   "id": "6c843783",
   "metadata": {},
   "outputs": [],
   "source": [
    "# Engineering HAR Features\n",
    "\n",
    "df['rv_lag_1'] = df.groupby('Stock')['rv'].shift(1)\n",
    "df['rv_rolling_5'] = df.groupby('Stock')['rv_lag_1'].rolling(window=5, min_periods=1).mean().reset_index(level=0, drop=True)\n",
    "df['rv_rolling_22'] = df.groupby('Stock')['rv_lag_1'].rolling(window=22, min_periods=1).mean().reset_index(level=0, drop=True)\n",
    "\n",
    "df['bpv_lag_1'] = df.groupby('Stock')['bpv'].shift(1)\n",
    "df['good_lag_1'] = df.groupby('Stock')['good'].shift(1)\n",
    "df['bad_lag_1'] = df.groupby('Stock')['bad'].shift(1)\n",
    "df['rq_lag_1'] = df.groupby('Stock')['rq'].shift(1)\n",
    "df['vix_lag_1'] = df.groupby('Stock')['vix'].shift(1)\n",
    "\n",
    "epsilon = 1e-10\n",
    "df['bad_good_ratio_lag_1'] = df['bad_lag_1'] / (df['good_lag_1'] + epsilon)\n",
    "df['jump_ratio_lag_1'] = (df['rv_lag_1'] - df['bpv_lag_1']) / (df['rv_lag_1'] + epsilon)\n",
    "display(df.tail())"
   ]
  }
 ],
 "metadata": {
  "kernelspec": {
   "display_name": ".venv",
   "language": "python",
   "name": "python3"
  },
  "language_info": {
   "codemirror_mode": {
    "name": "ipython",
    "version": 3
   },
   "file_extension": ".py",
   "mimetype": "text/x-python",
   "name": "python",
   "nbconvert_exporter": "python",
   "pygments_lexer": "ipython3",
   "version": "3.12.4"
  }
 },
 "nbformat": 4,
 "nbformat_minor": 5
}
